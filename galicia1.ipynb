{
 "cells": [
  {
   "cell_type": "markdown",
   "metadata": {},
   "source": [
    "### Original Kernel with minimal variations"
   ]
  },
  {
   "cell_type": "code",
   "execution_count": 1,
   "metadata": {
    "_cell_guid": "b1076dfc-b9ad-4769-8c92-a6c4dae69d19",
    "_uuid": "8f2839f25d086af736a60e9eeb907d3b93b6e0e5"
   },
   "outputs": [
    {
     "name": "stdout",
     "output_type": "stream",
     "text": [
      "['device_data.csv', 'pageviews_complemento.csv', 'sampleSubmission.csv', 'SITE_ID.csv', 'PAGE.csv', 'README.md', 'CONTENT_CATEGORY.csv', 'CONTENT_CATEGORY_BOTTOM.csv', 'pageviews.csv', 'conversiones.csv', 'CONTENT_CATEGORY_TOP.csv']\n"
     ]
    }
   ],
   "source": [
    "# This Python 3 environment comes with many helpful analytics libraries installed\n",
    "# It is defined by the kaggle/python docker image: https://github.com/kaggle/docker-python\n",
    "# For example, here's several helpful packages to load in \n",
    "\n",
    "import numpy as np # linear algebra\n",
    "import pandas as pd # data processing, CSV file I/O (e.g. pd.read_csv)\n",
    "np.set_printoptions(threshold=200)\n",
    "pd.set_option('display.max_columns', 200)\n",
    "\n",
    "# Input data files are available in the \"../input/\" directory.\n",
    "# For example, running this (by clicking run or pressing Shift+Enter) will list the files in the input directory\n",
    "\n",
    "import os\n",
    "print(os.listdir(\"../data/\"))\n",
    "\n",
    "# Any results you write to the current directory are saved as output."
   ]
  },
  {
   "cell_type": "code",
   "execution_count": 27,
   "metadata": {
    "_cell_guid": "79c7e3d0-c299-4dcb-8224-4455121ee9b0",
    "_uuid": "d629ff2d2480ee46fbb7e2d37f6b5fab8052498a"
   },
   "outputs": [
    {
     "name": "stderr",
     "output_type": "stream",
     "text": [
      "/home/horacio/.conda/envs/ds/lib/python3.7/site-packages/ipykernel_launcher.py:3: FutureWarning: Sorting because non-concatenation axis is not aligned. A future version\n",
      "of pandas will change to not sort by default.\n",
      "\n",
      "To accept the future behavior, pass 'sort=False'.\n",
      "\n",
      "To retain the current behavior and silence the warning, pass 'sort=True'.\n",
      "\n",
      "  This is separate from the ipykernel package so we can avoid doing imports until\n"
     ]
    }
   ],
   "source": [
    "data = pd.concat([\n",
    "       pd.read_csv(\"../data/pageviews.csv\", parse_dates=[\"FEC_EVENT\"]),\n",
    "       pd.read_csv(\"../data/pageviews_complemento.csv\", parse_dates=[\"FEC_EVENT\"])\n",
    "])"
   ]
  },
  {
   "cell_type": "code",
   "execution_count": null,
   "metadata": {},
   "outputs": [],
   "source": [
    "data.shape"
   ]
  },
  {
   "cell_type": "code",
   "execution_count": null,
   "metadata": {},
   "outputs": [],
   "source": [
    "data.head()"
   ]
  },
  {
   "cell_type": "code",
   "execution_count": 28,
   "metadata": {},
   "outputs": [
    {
     "name": "stdout",
     "output_type": "stream",
     "text": [
      "haciendo CONTENT_CATEGORY\n",
      "haciendo CONTENT_CATEGORY_BOTTOM\n",
      "haciendo CONTENT_CATEGORY_TOP\n",
      "haciendo ON_SITE_SEARCH_TERM\n",
      "haciendo PAGE\n",
      "haciendo SITE_ID\n"
     ]
    }
   ],
   "source": [
    "X_test = []\n",
    "for c in data.drop([\"USER_ID\", \"FEC_EVENT\"], axis=1).columns:\n",
    "    print(\"haciendo\", c)\n",
    "    temp = pd.crosstab(data.USER_ID, data[c])\n",
    "    temp.columns = [c + \"_\" + str(v) for v in temp.columns]\n",
    "    X_test.append(temp.apply(lambda x: x / x.sum(), axis=1))\n",
    "X_test = pd.concat(X_test, axis=1)"
   ]
  },
  {
   "cell_type": "code",
   "execution_count": null,
   "metadata": {},
   "outputs": [],
   "source": [
    "X_test.head(5)"
   ]
  },
  {
   "cell_type": "code",
   "execution_count": null,
   "metadata": {},
   "outputs": [],
   "source": [
    "X_test.shape"
   ]
  },
  {
   "cell_type": "code",
   "execution_count": null,
   "metadata": {},
   "outputs": [],
   "source": [
    "X_test.iloc[0,0:65].sum() # la suma de las frecuencias debe ser 1"
   ]
  },
  {
   "cell_type": "code",
   "execution_count": 29,
   "metadata": {},
   "outputs": [
    {
     "name": "stdout",
     "output_type": "stream",
     "text": [
      "haciendo CONTENT_CATEGORY\n",
      "haciendo CONTENT_CATEGORY_BOTTOM\n",
      "haciendo CONTENT_CATEGORY_TOP\n",
      "haciendo ON_SITE_SEARCH_TERM\n",
      "haciendo PAGE\n",
      "haciendo SITE_ID\n"
     ]
    }
   ],
   "source": [
    "data = data[data.FEC_EVENT.dt.month < 10]\n",
    "X_train = []\n",
    "for c in data.drop([\"USER_ID\", \"FEC_EVENT\"], axis=1).columns:\n",
    "    print(\"haciendo\", c)\n",
    "    temp = pd.crosstab(data.USER_ID, data[c])\n",
    "    temp.columns = [c + \"_\" + str(v) for v in temp.columns]\n",
    "    X_train.append(temp.apply(lambda x: x / x.sum(), axis=1))\n",
    "X_train = pd.concat(X_train, axis=1)"
   ]
  },
  {
   "cell_type": "code",
   "execution_count": null,
   "metadata": {},
   "outputs": [],
   "source": [
    "X_train.sample(5)"
   ]
  },
  {
   "cell_type": "code",
   "execution_count": null,
   "metadata": {},
   "outputs": [],
   "source": [
    "X_train.iloc[0,0:65].sum()"
   ]
  },
  {
   "cell_type": "code",
   "execution_count": 30,
   "metadata": {},
   "outputs": [],
   "source": [
    "features = list(set(X_train.columns).intersection(set(X_test.columns)))\n",
    "X_train = X_train[features]\n",
    "X_test = X_test[features]"
   ]
  },
  {
   "cell_type": "code",
   "execution_count": 31,
   "metadata": {},
   "outputs": [],
   "source": [
    "y_prev = pd.read_csv(\"../data/conversiones.csv\")\n",
    "y_train = pd.Series(0, index=X_train.index)\n",
    "idx = set(y_prev[y_prev.mes >= 10].USER_ID.unique()).intersection(set(X_train.index))\n",
    "y_train.loc[list(idx)] = 1"
   ]
  },
  {
   "cell_type": "code",
   "execution_count": 25,
   "metadata": {},
   "outputs": [],
   "source": [
    "from sklearn.feature_selection import SelectKBest\n",
    "from sklearn.feature_selection import chi2\n",
    "\n",
    "test = SelectKBest(chi2,k=250)\n",
    "fit = test.fit(X_train, y_train)\n",
    "X_train = pd.DataFrame(fit.transform(X_train))\n",
    "X_test = pd.DataFrame(fit.transform(X_test))"
   ]
  },
  {
   "cell_type": "code",
   "execution_count": null,
   "metadata": {},
   "outputs": [],
   "source": [
    "print(X_train.shape, X_test.shape)"
   ]
  },
  {
   "cell_type": "code",
   "execution_count": 32,
   "metadata": {},
   "outputs": [
    {
     "name": "stdout",
     "output_type": "stream",
     "text": [
      "[1]\ttraining's binary_logloss: 0.128942\ttraining's auc: 0.834728\tvalid_1's binary_logloss: 0.152446\tvalid_1's auc: 0.8069\n",
      "Training until validation scores don't improve for 10 rounds.\n",
      "[2]\ttraining's binary_logloss: 0.117939\ttraining's auc: 0.877138\tvalid_1's binary_logloss: 0.14837\tvalid_1's auc: 0.806152\n",
      "[3]\ttraining's binary_logloss: 0.11014\ttraining's auc: 0.889498\tvalid_1's binary_logloss: 0.144616\tvalid_1's auc: 0.813151\n",
      "[4]\ttraining's binary_logloss: 0.10407\ttraining's auc: 0.908865\tvalid_1's binary_logloss: 0.144056\tvalid_1's auc: 0.80524\n",
      "[5]\ttraining's binary_logloss: 0.0987176\ttraining's auc: 0.918161\tvalid_1's binary_logloss: 0.141111\tvalid_1's auc: 0.81437\n",
      "[6]\ttraining's binary_logloss: 0.0940959\ttraining's auc: 0.92979\tvalid_1's binary_logloss: 0.140652\tvalid_1's auc: 0.816399\n",
      "[7]\ttraining's binary_logloss: 0.090013\ttraining's auc: 0.947593\tvalid_1's binary_logloss: 0.139541\tvalid_1's auc: 0.81687\n",
      "[8]\ttraining's binary_logloss: 0.0863618\ttraining's auc: 0.952338\tvalid_1's binary_logloss: 0.137934\tvalid_1's auc: 0.821225\n",
      "[9]\ttraining's binary_logloss: 0.0828373\ttraining's auc: 0.961536\tvalid_1's binary_logloss: 0.136341\tvalid_1's auc: 0.827465\n",
      "[10]\ttraining's binary_logloss: 0.0792686\ttraining's auc: 0.966685\tvalid_1's binary_logloss: 0.135682\tvalid_1's auc: 0.834218\n",
      "[11]\ttraining's binary_logloss: 0.0762937\ttraining's auc: 0.970362\tvalid_1's binary_logloss: 0.13516\tvalid_1's auc: 0.834945\n",
      "[12]\ttraining's binary_logloss: 0.0733922\ttraining's auc: 0.973418\tvalid_1's binary_logloss: 0.134796\tvalid_1's auc: 0.834003\n",
      "[13]\ttraining's binary_logloss: 0.0706215\ttraining's auc: 0.975096\tvalid_1's binary_logloss: 0.134353\tvalid_1's auc: 0.834597\n",
      "[14]\ttraining's binary_logloss: 0.0682133\ttraining's auc: 0.977745\tvalid_1's binary_logloss: 0.134212\tvalid_1's auc: 0.833142\n",
      "[15]\ttraining's binary_logloss: 0.0656033\ttraining's auc: 0.982188\tvalid_1's binary_logloss: 0.132959\tvalid_1's auc: 0.836083\n",
      "[16]\ttraining's binary_logloss: 0.0635537\ttraining's auc: 0.98428\tvalid_1's binary_logloss: 0.132464\tvalid_1's auc: 0.838573\n",
      "[17]\ttraining's binary_logloss: 0.0617203\ttraining's auc: 0.985981\tvalid_1's binary_logloss: 0.131903\tvalid_1's auc: 0.841268\n",
      "[18]\ttraining's binary_logloss: 0.0599184\ttraining's auc: 0.986426\tvalid_1's binary_logloss: 0.131973\tvalid_1's auc: 0.840817\n",
      "[19]\ttraining's binary_logloss: 0.0579424\ttraining's auc: 0.986975\tvalid_1's binary_logloss: 0.131966\tvalid_1's auc: 0.840376\n",
      "[20]\ttraining's binary_logloss: 0.0562299\ttraining's auc: 0.988254\tvalid_1's binary_logloss: 0.131722\tvalid_1's auc: 0.840356\n",
      "[21]\ttraining's binary_logloss: 0.0544218\ttraining's auc: 0.992238\tvalid_1's binary_logloss: 0.131719\tvalid_1's auc: 0.837989\n",
      "[22]\ttraining's binary_logloss: 0.0529147\ttraining's auc: 0.994254\tvalid_1's binary_logloss: 0.131443\tvalid_1's auc: 0.837815\n",
      "[23]\ttraining's binary_logloss: 0.0514011\ttraining's auc: 0.996145\tvalid_1's binary_logloss: 0.13169\tvalid_1's auc: 0.836032\n",
      "[24]\ttraining's binary_logloss: 0.0497773\ttraining's auc: 0.99804\tvalid_1's binary_logloss: 0.13169\tvalid_1's auc: 0.835663\n",
      "[25]\ttraining's binary_logloss: 0.0484366\ttraining's auc: 0.998318\tvalid_1's binary_logloss: 0.132113\tvalid_1's auc: 0.837989\n",
      "[26]\ttraining's binary_logloss: 0.0469751\ttraining's auc: 0.999159\tvalid_1's binary_logloss: 0.132122\tvalid_1's auc: 0.838265\n",
      "[27]\ttraining's binary_logloss: 0.0455253\ttraining's auc: 0.999215\tvalid_1's binary_logloss: 0.132205\tvalid_1's auc: 0.83802\n",
      "Early stopping, best iteration is:\n",
      "[17]\ttraining's binary_logloss: 0.0617203\ttraining's auc: 0.985981\tvalid_1's binary_logloss: 0.131903\tvalid_1's auc: 0.841268\n",
      "[1]\ttraining's binary_logloss: 0.126402\ttraining's auc: 0.840842\tvalid_1's binary_logloss: 0.158124\tvalid_1's auc: 0.786281\n",
      "Training until validation scores don't improve for 10 rounds.\n",
      "[2]\ttraining's binary_logloss: 0.115863\ttraining's auc: 0.885977\tvalid_1's binary_logloss: 0.155293\tvalid_1's auc: 0.802374\n",
      "[3]\ttraining's binary_logloss: 0.108018\ttraining's auc: 0.912901\tvalid_1's binary_logloss: 0.151431\tvalid_1's auc: 0.821403\n",
      "[4]\ttraining's binary_logloss: 0.10189\ttraining's auc: 0.92025\tvalid_1's binary_logloss: 0.150358\tvalid_1's auc: 0.81401\n",
      "[5]\ttraining's binary_logloss: 0.0966727\ttraining's auc: 0.923931\tvalid_1's binary_logloss: 0.14976\tvalid_1's auc: 0.809012\n",
      "[6]\ttraining's binary_logloss: 0.092026\ttraining's auc: 0.928213\tvalid_1's binary_logloss: 0.148399\tvalid_1's auc: 0.812046\n",
      "[7]\ttraining's binary_logloss: 0.0877864\ttraining's auc: 0.934754\tvalid_1's binary_logloss: 0.146992\tvalid_1's auc: 0.814118\n",
      "[8]\ttraining's binary_logloss: 0.0840481\ttraining's auc: 0.945084\tvalid_1's binary_logloss: 0.146268\tvalid_1's auc: 0.81234\n",
      "[9]\ttraining's binary_logloss: 0.0807917\ttraining's auc: 0.949083\tvalid_1's binary_logloss: 0.144926\tvalid_1's auc: 0.815266\n",
      "[10]\ttraining's binary_logloss: 0.0775466\ttraining's auc: 0.957297\tvalid_1's binary_logloss: 0.144989\tvalid_1's auc: 0.791652\n",
      "[11]\ttraining's binary_logloss: 0.0746984\ttraining's auc: 0.961319\tvalid_1's binary_logloss: 0.144131\tvalid_1's auc: 0.791632\n",
      "[12]\ttraining's binary_logloss: 0.0720572\ttraining's auc: 0.965509\tvalid_1's binary_logloss: 0.14358\tvalid_1's auc: 0.821364\n",
      "[13]\ttraining's binary_logloss: 0.069391\ttraining's auc: 0.967762\tvalid_1's binary_logloss: 0.143177\tvalid_1's auc: 0.836603\n",
      "[14]\ttraining's binary_logloss: 0.0672717\ttraining's auc: 0.970603\tvalid_1's binary_logloss: 0.142385\tvalid_1's auc: 0.839077\n",
      "[15]\ttraining's binary_logloss: 0.0650563\ttraining's auc: 0.975414\tvalid_1's binary_logloss: 0.142106\tvalid_1's auc: 0.852215\n",
      "[16]\ttraining's binary_logloss: 0.0629112\ttraining's auc: 0.976967\tvalid_1's binary_logloss: 0.142053\tvalid_1's auc: 0.853403\n",
      "[17]\ttraining's binary_logloss: 0.0609923\ttraining's auc: 0.978575\tvalid_1's binary_logloss: 0.142218\tvalid_1's auc: 0.851695\n",
      "[18]\ttraining's binary_logloss: 0.0589243\ttraining's auc: 0.984729\tvalid_1's binary_logloss: 0.141923\tvalid_1's auc: 0.850841\n",
      "[19]\ttraining's binary_logloss: 0.057009\ttraining's auc: 0.989066\tvalid_1's binary_logloss: 0.141843\tvalid_1's auc: 0.842828\n",
      "[20]\ttraining's binary_logloss: 0.0551753\ttraining's auc: 0.992514\tvalid_1's binary_logloss: 0.141587\tvalid_1's auc: 0.852559\n",
      "[21]\ttraining's binary_logloss: 0.0536357\ttraining's auc: 0.994453\tvalid_1's binary_logloss: 0.141731\tvalid_1's auc: 0.850143\n",
      "[22]\ttraining's binary_logloss: 0.0521129\ttraining's auc: 0.995784\tvalid_1's binary_logloss: 0.141236\tvalid_1's auc: 0.851184\n",
      "[23]\ttraining's binary_logloss: 0.0506333\ttraining's auc: 0.996821\tvalid_1's binary_logloss: 0.141447\tvalid_1's auc: 0.851479\n",
      "[24]\ttraining's binary_logloss: 0.0491332\ttraining's auc: 0.997822\tvalid_1's binary_logloss: 0.141944\tvalid_1's auc: 0.849083\n",
      "[25]\ttraining's binary_logloss: 0.0477507\ttraining's auc: 0.99864\tvalid_1's binary_logloss: 0.142427\tvalid_1's auc: 0.846451\n",
      "[26]\ttraining's binary_logloss: 0.0464345\ttraining's auc: 0.998952\tvalid_1's binary_logloss: 0.142486\tvalid_1's auc: 0.846432\n",
      "Early stopping, best iteration is:\n",
      "[16]\ttraining's binary_logloss: 0.0629112\ttraining's auc: 0.976967\tvalid_1's binary_logloss: 0.142053\tvalid_1's auc: 0.853403\n",
      "[1]\ttraining's binary_logloss: 0.127529\ttraining's auc: 0.835897\tvalid_1's binary_logloss: 0.157674\tvalid_1's auc: 0.772844\n",
      "Training until validation scores don't improve for 10 rounds.\n",
      "[2]\ttraining's binary_logloss: 0.116962\ttraining's auc: 0.884907\tvalid_1's binary_logloss: 0.152066\tvalid_1's auc: 0.826203\n",
      "[3]\ttraining's binary_logloss: 0.109167\ttraining's auc: 0.897969\tvalid_1's binary_logloss: 0.149774\tvalid_1's auc: 0.828169\n",
      "[4]\ttraining's binary_logloss: 0.103103\ttraining's auc: 0.909295\tvalid_1's binary_logloss: 0.148764\tvalid_1's auc: 0.81437\n",
      "[5]\ttraining's binary_logloss: 0.0976629\ttraining's auc: 0.914325\tvalid_1's binary_logloss: 0.146951\tvalid_1's auc: 0.814631\n",
      "[6]\ttraining's binary_logloss: 0.0929855\ttraining's auc: 0.920427\tvalid_1's binary_logloss: 0.144706\tvalid_1's auc: 0.833524\n",
      "[7]\ttraining's binary_logloss: 0.0890456\ttraining's auc: 0.933012\tvalid_1's binary_logloss: 0.142608\tvalid_1's auc: 0.835078\n",
      "[8]\ttraining's binary_logloss: 0.0854973\ttraining's auc: 0.945295\tvalid_1's binary_logloss: 0.141435\tvalid_1's auc: 0.836913\n",
      "[9]\ttraining's binary_logloss: 0.0819449\ttraining's auc: 0.951066\tvalid_1's binary_logloss: 0.140771\tvalid_1's auc: 0.837926\n",
      "[10]\ttraining's binary_logloss: 0.079007\ttraining's auc: 0.961244\tvalid_1's binary_logloss: 0.139538\tvalid_1's auc: 0.846079\n",
      "[11]\ttraining's binary_logloss: 0.0761781\ttraining's auc: 0.966384\tvalid_1's binary_logloss: 0.138393\tvalid_1's auc: 0.8463\n",
      "[12]\ttraining's binary_logloss: 0.073533\ttraining's auc: 0.969397\tvalid_1's binary_logloss: 0.138325\tvalid_1's auc: 0.847834\n",
      "[13]\ttraining's binary_logloss: 0.0709801\ttraining's auc: 0.971932\tvalid_1's binary_logloss: 0.138697\tvalid_1's auc: 0.844966\n",
      "[14]\ttraining's binary_logloss: 0.0687094\ttraining's auc: 0.976367\tvalid_1's binary_logloss: 0.138208\tvalid_1's auc: 0.845247\n"
     ]
    },
    {
     "name": "stdout",
     "output_type": "stream",
     "text": [
      "[15]\ttraining's binary_logloss: 0.0665778\ttraining's auc: 0.979306\tvalid_1's binary_logloss: 0.138332\tvalid_1's auc: 0.844475\n",
      "[16]\ttraining's binary_logloss: 0.0643723\ttraining's auc: 0.983213\tvalid_1's binary_logloss: 0.138313\tvalid_1's auc: 0.844053\n",
      "[17]\ttraining's binary_logloss: 0.0622859\ttraining's auc: 0.985654\tvalid_1's binary_logloss: 0.137106\tvalid_1's auc: 0.847463\n",
      "[18]\ttraining's binary_logloss: 0.0604267\ttraining's auc: 0.98678\tvalid_1's binary_logloss: 0.136286\tvalid_1's auc: 0.85007\n",
      "[19]\ttraining's binary_logloss: 0.0584142\ttraining's auc: 0.989747\tvalid_1's binary_logloss: 0.136189\tvalid_1's auc: 0.849007\n",
      "[20]\ttraining's binary_logloss: 0.0567267\ttraining's auc: 0.991952\tvalid_1's binary_logloss: 0.13647\tvalid_1's auc: 0.847262\n",
      "[21]\ttraining's binary_logloss: 0.054903\ttraining's auc: 0.994711\tvalid_1's binary_logloss: 0.136503\tvalid_1's auc: 0.84658\n",
      "[22]\ttraining's binary_logloss: 0.0532951\ttraining's auc: 0.995738\tvalid_1's binary_logloss: 0.136139\tvalid_1's auc: 0.847603\n",
      "[23]\ttraining's binary_logloss: 0.0516015\ttraining's auc: 0.997474\tvalid_1's binary_logloss: 0.135996\tvalid_1's auc: 0.847152\n",
      "[24]\ttraining's binary_logloss: 0.0500367\ttraining's auc: 0.998278\tvalid_1's binary_logloss: 0.135941\tvalid_1's auc: 0.847443\n",
      "[25]\ttraining's binary_logloss: 0.0486482\ttraining's auc: 0.998807\tvalid_1's binary_logloss: 0.135623\tvalid_1's auc: 0.844635\n",
      "[26]\ttraining's binary_logloss: 0.047292\ttraining's auc: 0.999074\tvalid_1's binary_logloss: 0.135897\tvalid_1's auc: 0.843251\n",
      "[27]\ttraining's binary_logloss: 0.045953\ttraining's auc: 0.99933\tvalid_1's binary_logloss: 0.136318\tvalid_1's auc: 0.840844\n",
      "[28]\ttraining's binary_logloss: 0.0448346\ttraining's auc: 0.999483\tvalid_1's binary_logloss: 0.136779\tvalid_1's auc: 0.839862\n",
      "Early stopping, best iteration is:\n",
      "[18]\ttraining's binary_logloss: 0.0604267\ttraining's auc: 0.98678\tvalid_1's binary_logloss: 0.136286\tvalid_1's auc: 0.85007\n",
      "[1]\ttraining's binary_logloss: 0.130406\ttraining's auc: 0.849173\tvalid_1's binary_logloss: 0.12816\tvalid_1's auc: 0.800386\n",
      "Training until validation scores don't improve for 10 rounds.\n",
      "[2]\ttraining's binary_logloss: 0.120025\ttraining's auc: 0.880734\tvalid_1's binary_logloss: 0.123566\tvalid_1's auc: 0.828392\n",
      "[3]\ttraining's binary_logloss: 0.11184\ttraining's auc: 0.906863\tvalid_1's binary_logloss: 0.121086\tvalid_1's auc: 0.829128\n",
      "[4]\ttraining's binary_logloss: 0.105784\ttraining's auc: 0.91554\tvalid_1's binary_logloss: 0.120442\tvalid_1's auc: 0.822517\n",
      "[5]\ttraining's binary_logloss: 0.0999481\ttraining's auc: 0.919736\tvalid_1's binary_logloss: 0.11841\tvalid_1's auc: 0.822741\n",
      "[6]\ttraining's binary_logloss: 0.0951399\ttraining's auc: 0.929745\tvalid_1's binary_logloss: 0.116515\tvalid_1's auc: 0.842099\n",
      "[7]\ttraining's binary_logloss: 0.0910846\ttraining's auc: 0.936412\tvalid_1's binary_logloss: 0.114539\tvalid_1's auc: 0.847868\n",
      "[8]\ttraining's binary_logloss: 0.0873598\ttraining's auc: 0.951046\tvalid_1's binary_logloss: 0.113827\tvalid_1's auc: 0.863113\n",
      "[9]\ttraining's binary_logloss: 0.0839165\ttraining's auc: 0.957016\tvalid_1's binary_logloss: 0.113656\tvalid_1's auc: 0.859604\n",
      "[10]\ttraining's binary_logloss: 0.0806499\ttraining's auc: 0.96269\tvalid_1's binary_logloss: 0.113006\tvalid_1's auc: 0.859289\n",
      "[11]\ttraining's binary_logloss: 0.0776558\ttraining's auc: 0.965316\tvalid_1's binary_logloss: 0.113164\tvalid_1's auc: 0.856319\n",
      "[12]\ttraining's binary_logloss: 0.0747921\ttraining's auc: 0.96767\tvalid_1's binary_logloss: 0.112982\tvalid_1's auc: 0.854597\n",
      "[13]\ttraining's binary_logloss: 0.0721467\ttraining's auc: 0.970656\tvalid_1's binary_logloss: 0.112948\tvalid_1's auc: 0.855228\n",
      "[14]\ttraining's binary_logloss: 0.0697824\ttraining's auc: 0.974354\tvalid_1's binary_logloss: 0.112319\tvalid_1's auc: 0.854229\n",
      "[15]\ttraining's binary_logloss: 0.067515\ttraining's auc: 0.97841\tvalid_1's binary_logloss: 0.112742\tvalid_1's auc: 0.849367\n",
      "[16]\ttraining's binary_logloss: 0.0654399\ttraining's auc: 0.979727\tvalid_1's binary_logloss: 0.112739\tvalid_1's auc: 0.847132\n",
      "[17]\ttraining's binary_logloss: 0.0634496\ttraining's auc: 0.981363\tvalid_1's binary_logloss: 0.112693\tvalid_1's auc: 0.843637\n",
      "[18]\ttraining's binary_logloss: 0.0613096\ttraining's auc: 0.987531\tvalid_1's binary_logloss: 0.112759\tvalid_1's auc: 0.843242\n",
      "Early stopping, best iteration is:\n",
      "[8]\ttraining's binary_logloss: 0.0873598\ttraining's auc: 0.951046\tvalid_1's binary_logloss: 0.113827\tvalid_1's auc: 0.863113\n",
      "[1]\ttraining's binary_logloss: 0.130419\ttraining's auc: 0.840101\tvalid_1's binary_logloss: 0.133648\tvalid_1's auc: 0.750348\n",
      "Training until validation scores don't improve for 10 rounds.\n",
      "[2]\ttraining's binary_logloss: 0.120574\ttraining's auc: 0.881989\tvalid_1's binary_logloss: 0.129541\tvalid_1's auc: 0.80522\n",
      "[3]\ttraining's binary_logloss: 0.112245\ttraining's auc: 0.909702\tvalid_1's binary_logloss: 0.126567\tvalid_1's auc: 0.815291\n",
      "[4]\ttraining's binary_logloss: 0.105993\ttraining's auc: 0.921723\tvalid_1's binary_logloss: 0.125382\tvalid_1's auc: 0.807122\n",
      "[5]\ttraining's binary_logloss: 0.10062\ttraining's auc: 0.928767\tvalid_1's binary_logloss: 0.12317\tvalid_1's auc: 0.812941\n",
      "[6]\ttraining's binary_logloss: 0.0956398\ttraining's auc: 0.934717\tvalid_1's binary_logloss: 0.122106\tvalid_1's auc: 0.814881\n",
      "[7]\ttraining's binary_logloss: 0.0913976\ttraining's auc: 0.938678\tvalid_1's binary_logloss: 0.120372\tvalid_1's auc: 0.82167\n",
      "[8]\ttraining's binary_logloss: 0.0873175\ttraining's auc: 0.952973\tvalid_1's binary_logloss: 0.119779\tvalid_1's auc: 0.821546\n",
      "[9]\ttraining's binary_logloss: 0.0839353\ttraining's auc: 0.960943\tvalid_1's binary_logloss: 0.118599\tvalid_1's auc: 0.822615\n",
      "[10]\ttraining's binary_logloss: 0.0807582\ttraining's auc: 0.964181\tvalid_1's binary_logloss: 0.117635\tvalid_1's auc: 0.833408\n",
      "[11]\ttraining's binary_logloss: 0.0779285\ttraining's auc: 0.969394\tvalid_1's binary_logloss: 0.117063\tvalid_1's auc: 0.834602\n",
      "[12]\ttraining's binary_logloss: 0.0752333\ttraining's auc: 0.971024\tvalid_1's binary_logloss: 0.115819\tvalid_1's auc: 0.84629\n",
      "[13]\ttraining's binary_logloss: 0.072616\ttraining's auc: 0.97397\tvalid_1's binary_logloss: 0.11573\tvalid_1's auc: 0.845195\n",
      "[14]\ttraining's binary_logloss: 0.0702156\ttraining's auc: 0.976496\tvalid_1's binary_logloss: 0.115823\tvalid_1's auc: 0.843803\n",
      "[15]\ttraining's binary_logloss: 0.0675958\ttraining's auc: 0.981171\tvalid_1's binary_logloss: 0.115965\tvalid_1's auc: 0.840073\n",
      "[16]\ttraining's binary_logloss: 0.065544\ttraining's auc: 0.983087\tvalid_1's binary_logloss: 0.116038\tvalid_1's auc: 0.837325\n",
      "[17]\ttraining's binary_logloss: 0.0633515\ttraining's auc: 0.988497\tvalid_1's binary_logloss: 0.115818\tvalid_1's auc: 0.835882\n",
      "[18]\ttraining's binary_logloss: 0.0615184\ttraining's auc: 0.989283\tvalid_1's binary_logloss: 0.115875\tvalid_1's auc: 0.835062\n",
      "[19]\ttraining's binary_logloss: 0.059726\ttraining's auc: 0.989678\tvalid_1's binary_logloss: 0.115827\tvalid_1's auc: 0.836119\n",
      "[20]\ttraining's binary_logloss: 0.058124\ttraining's auc: 0.990228\tvalid_1's binary_logloss: 0.115606\tvalid_1's auc: 0.835571\n",
      "[21]\ttraining's binary_logloss: 0.0563791\ttraining's auc: 0.992297\tvalid_1's binary_logloss: 0.115837\tvalid_1's auc: 0.832363\n",
      "[22]\ttraining's binary_logloss: 0.0547449\ttraining's auc: 0.994135\tvalid_1's binary_logloss: 0.115931\tvalid_1's auc: 0.830934\n",
      "Early stopping, best iteration is:\n",
      "[12]\ttraining's binary_logloss: 0.0752333\ttraining's auc: 0.971024\tvalid_1's binary_logloss: 0.115819\tvalid_1's auc: 0.84629\n",
      "[1]\ttraining's binary_logloss: 0.128508\ttraining's auc: 0.835938\tvalid_1's binary_logloss: 0.156436\tvalid_1's auc: 0.788708\n",
      "Training until validation scores don't improve for 10 rounds.\n",
      "[2]\ttraining's binary_logloss: 0.118063\ttraining's auc: 0.887711\tvalid_1's binary_logloss: 0.150919\tvalid_1's auc: 0.830154\n",
      "[3]\ttraining's binary_logloss: 0.110071\ttraining's auc: 0.903578\tvalid_1's binary_logloss: 0.147101\tvalid_1's auc: 0.844585\n",
      "[4]\ttraining's binary_logloss: 0.103933\ttraining's auc: 0.914926\tvalid_1's binary_logloss: 0.143354\tvalid_1's auc: 0.849809\n",
      "[5]\ttraining's binary_logloss: 0.0984849\ttraining's auc: 0.922829\tvalid_1's binary_logloss: 0.1399\tvalid_1's auc: 0.855144\n",
      "[6]\ttraining's binary_logloss: 0.0938453\ttraining's auc: 0.932497\tvalid_1's binary_logloss: 0.138631\tvalid_1's auc: 0.852096\n",
      "[7]\ttraining's binary_logloss: 0.0897311\ttraining's auc: 0.935664\tvalid_1's binary_logloss: 0.137971\tvalid_1's auc: 0.848716\n"
     ]
    },
    {
     "name": "stdout",
     "output_type": "stream",
     "text": [
      "[8]\ttraining's binary_logloss: 0.0857571\ttraining's auc: 0.951319\tvalid_1's binary_logloss: 0.136791\tvalid_1's auc: 0.851203\n",
      "[9]\ttraining's binary_logloss: 0.0822581\ttraining's auc: 0.9609\tvalid_1's binary_logloss: 0.136129\tvalid_1's auc: 0.848937\n",
      "[10]\ttraining's binary_logloss: 0.0792266\ttraining's auc: 0.965225\tvalid_1's binary_logloss: 0.135127\tvalid_1's auc: 0.848977\n",
      "[11]\ttraining's binary_logloss: 0.0762722\ttraining's auc: 0.968027\tvalid_1's binary_logloss: 0.134871\tvalid_1's auc: 0.84652\n",
      "[12]\ttraining's binary_logloss: 0.0737495\ttraining's auc: 0.970009\tvalid_1's binary_logloss: 0.134309\tvalid_1's auc: 0.846741\n",
      "[13]\ttraining's binary_logloss: 0.0712652\ttraining's auc: 0.971952\tvalid_1's binary_logloss: 0.133286\tvalid_1's auc: 0.847343\n",
      "[14]\ttraining's binary_logloss: 0.0688965\ttraining's auc: 0.973233\tvalid_1's binary_logloss: 0.132501\tvalid_1's auc: 0.848887\n",
      "[15]\ttraining's binary_logloss: 0.0668561\ttraining's auc: 0.975527\tvalid_1's binary_logloss: 0.132621\tvalid_1's auc: 0.845858\n",
      "Early stopping, best iteration is:\n",
      "[5]\ttraining's binary_logloss: 0.0984849\ttraining's auc: 0.922829\tvalid_1's binary_logloss: 0.1399\tvalid_1's auc: 0.855144\n",
      "[1]\ttraining's binary_logloss: 0.127235\ttraining's auc: 0.847946\tvalid_1's binary_logloss: 0.147743\tvalid_1's auc: 0.739911\n",
      "Training until validation scores don't improve for 10 rounds.\n",
      "[2]\ttraining's binary_logloss: 0.11629\ttraining's auc: 0.897368\tvalid_1's binary_logloss: 0.145046\tvalid_1's auc: 0.754803\n",
      "[3]\ttraining's binary_logloss: 0.108929\ttraining's auc: 0.908249\tvalid_1's binary_logloss: 0.142623\tvalid_1's auc: 0.758192\n",
      "[4]\ttraining's binary_logloss: 0.102925\ttraining's auc: 0.917278\tvalid_1's binary_logloss: 0.141102\tvalid_1's auc: 0.759135\n",
      "[5]\ttraining's binary_logloss: 0.0975588\ttraining's auc: 0.924549\tvalid_1's binary_logloss: 0.139941\tvalid_1's auc: 0.759234\n",
      "[6]\ttraining's binary_logloss: 0.0929185\ttraining's auc: 0.939624\tvalid_1's binary_logloss: 0.138437\tvalid_1's auc: 0.763961\n",
      "[7]\ttraining's binary_logloss: 0.088859\ttraining's auc: 0.9504\tvalid_1's binary_logloss: 0.138366\tvalid_1's auc: 0.757556\n",
      "[8]\ttraining's binary_logloss: 0.0848891\ttraining's auc: 0.955951\tvalid_1's binary_logloss: 0.13749\tvalid_1's auc: 0.789141\n",
      "[9]\ttraining's binary_logloss: 0.0814445\ttraining's auc: 0.963422\tvalid_1's binary_logloss: 0.137513\tvalid_1's auc: 0.784918\n",
      "[10]\ttraining's binary_logloss: 0.0785892\ttraining's auc: 0.96659\tvalid_1's binary_logloss: 0.137626\tvalid_1's auc: 0.78323\n",
      "[11]\ttraining's binary_logloss: 0.0755602\ttraining's auc: 0.970957\tvalid_1's binary_logloss: 0.137552\tvalid_1's auc: 0.783778\n",
      "[12]\ttraining's binary_logloss: 0.0728098\ttraining's auc: 0.973285\tvalid_1's binary_logloss: 0.138089\tvalid_1's auc: 0.780543\n",
      "[13]\ttraining's binary_logloss: 0.0704283\ttraining's auc: 0.976504\tvalid_1's binary_logloss: 0.138349\tvalid_1's auc: 0.77802\n",
      "[14]\ttraining's binary_logloss: 0.0679682\ttraining's auc: 0.978631\tvalid_1's binary_logloss: 0.138494\tvalid_1's auc: 0.778569\n",
      "[15]\ttraining's binary_logloss: 0.0659008\ttraining's auc: 0.97998\tvalid_1's binary_logloss: 0.138959\tvalid_1's auc: 0.778152\n",
      "[16]\ttraining's binary_logloss: 0.0637858\ttraining's auc: 0.98118\tvalid_1's binary_logloss: 0.138433\tvalid_1's auc: 0.778612\n",
      "[17]\ttraining's binary_logloss: 0.0614757\ttraining's auc: 0.987454\tvalid_1's binary_logloss: 0.138994\tvalid_1's auc: 0.784502\n",
      "[18]\ttraining's binary_logloss: 0.0597292\ttraining's auc: 0.988805\tvalid_1's binary_logloss: 0.139089\tvalid_1's auc: 0.783131\n",
      "Early stopping, best iteration is:\n",
      "[8]\ttraining's binary_logloss: 0.0848891\ttraining's auc: 0.955951\tvalid_1's binary_logloss: 0.13749\tvalid_1's auc: 0.789141\n",
      "[1]\ttraining's binary_logloss: 0.129555\ttraining's auc: 0.834858\tvalid_1's binary_logloss: 0.134956\tvalid_1's auc: 0.794924\n",
      "Training until validation scores don't improve for 10 rounds.\n",
      "[2]\ttraining's binary_logloss: 0.11901\ttraining's auc: 0.861581\tvalid_1's binary_logloss: 0.132368\tvalid_1's auc: 0.814297\n",
      "[3]\ttraining's binary_logloss: 0.111496\ttraining's auc: 0.878821\tvalid_1's binary_logloss: 0.130466\tvalid_1's auc: 0.812133\n",
      "[4]\ttraining's binary_logloss: 0.105773\ttraining's auc: 0.885861\tvalid_1's binary_logloss: 0.128683\tvalid_1's auc: 0.813389\n",
      "[5]\ttraining's binary_logloss: 0.100541\ttraining's auc: 0.91196\tvalid_1's binary_logloss: 0.125474\tvalid_1's auc: 0.850306\n",
      "[6]\ttraining's binary_logloss: 0.0960618\ttraining's auc: 0.919152\tvalid_1's binary_logloss: 0.122816\tvalid_1's auc: 0.858114\n",
      "[7]\ttraining's binary_logloss: 0.0922453\ttraining's auc: 0.923631\tvalid_1's binary_logloss: 0.121236\tvalid_1's auc: 0.876069\n",
      "[8]\ttraining's binary_logloss: 0.088477\ttraining's auc: 0.940061\tvalid_1's binary_logloss: 0.120105\tvalid_1's auc: 0.877785\n",
      "[9]\ttraining's binary_logloss: 0.0850876\ttraining's auc: 0.952668\tvalid_1's binary_logloss: 0.118833\tvalid_1's auc: 0.875535\n",
      "[10]\ttraining's binary_logloss: 0.0819934\ttraining's auc: 0.956851\tvalid_1's binary_logloss: 0.118318\tvalid_1's auc: 0.873868\n",
      "[11]\ttraining's binary_logloss: 0.0791079\ttraining's auc: 0.960013\tvalid_1's binary_logloss: 0.117806\tvalid_1's auc: 0.85523\n",
      "[12]\ttraining's binary_logloss: 0.0763925\ttraining's auc: 0.96375\tvalid_1's binary_logloss: 0.117948\tvalid_1's auc: 0.854024\n",
      "[13]\ttraining's binary_logloss: 0.0740419\ttraining's auc: 0.966844\tvalid_1's binary_logloss: 0.117434\tvalid_1's auc: 0.852009\n",
      "[14]\ttraining's binary_logloss: 0.0716875\ttraining's auc: 0.971809\tvalid_1's binary_logloss: 0.117423\tvalid_1's auc: 0.851611\n",
      "[15]\ttraining's binary_logloss: 0.0696404\ttraining's auc: 0.973461\tvalid_1's binary_logloss: 0.117326\tvalid_1's auc: 0.850915\n",
      "[16]\ttraining's binary_logloss: 0.0673815\ttraining's auc: 0.977547\tvalid_1's binary_logloss: 0.116851\tvalid_1's auc: 0.853004\n",
      "[17]\ttraining's binary_logloss: 0.0652905\ttraining's auc: 0.979294\tvalid_1's binary_logloss: 0.116701\tvalid_1's auc: 0.853128\n",
      "[18]\ttraining's binary_logloss: 0.0634441\ttraining's auc: 0.984428\tvalid_1's binary_logloss: 0.116276\tvalid_1's auc: 0.858948\n",
      "Early stopping, best iteration is:\n",
      "[8]\ttraining's binary_logloss: 0.088477\ttraining's auc: 0.940061\tvalid_1's binary_logloss: 0.120105\tvalid_1's auc: 0.877785\n",
      "[1]\ttraining's binary_logloss: 0.131024\ttraining's auc: 0.835041\tvalid_1's binary_logloss: 0.115918\tvalid_1's auc: 0.731968\n",
      "Training until validation scores don't improve for 10 rounds.\n",
      "[2]\ttraining's binary_logloss: 0.119789\ttraining's auc: 0.883762\tvalid_1's binary_logloss: 0.112678\tvalid_1's auc: 0.763238\n",
      "[3]\ttraining's binary_logloss: 0.111753\ttraining's auc: 0.917584\tvalid_1's binary_logloss: 0.110876\tvalid_1's auc: 0.746023\n",
      "[4]\ttraining's binary_logloss: 0.105673\ttraining's auc: 0.926414\tvalid_1's binary_logloss: 0.109622\tvalid_1's auc: 0.788973\n",
      "[5]\ttraining's binary_logloss: 0.100149\ttraining's auc: 0.938998\tvalid_1's binary_logloss: 0.109141\tvalid_1's auc: 0.78501\n",
      "[6]\ttraining's binary_logloss: 0.0954587\ttraining's auc: 0.941767\tvalid_1's binary_logloss: 0.10781\tvalid_1's auc: 0.790368\n",
      "[7]\ttraining's binary_logloss: 0.0912857\ttraining's auc: 0.946973\tvalid_1's binary_logloss: 0.106964\tvalid_1's auc: 0.798783\n",
      "[8]\ttraining's binary_logloss: 0.0876408\ttraining's auc: 0.959949\tvalid_1's binary_logloss: 0.10651\tvalid_1's auc: 0.795889\n",
      "[9]\ttraining's binary_logloss: 0.0841398\ttraining's auc: 0.964757\tvalid_1's binary_logloss: 0.106034\tvalid_1's auc: 0.798546\n",
      "[10]\ttraining's binary_logloss: 0.0808678\ttraining's auc: 0.969741\tvalid_1's binary_logloss: 0.105239\tvalid_1's auc: 0.799392\n",
      "[11]\ttraining's binary_logloss: 0.0778899\ttraining's auc: 0.971193\tvalid_1's binary_logloss: 0.104804\tvalid_1's auc: 0.801351\n",
      "[12]\ttraining's binary_logloss: 0.0751058\ttraining's auc: 0.973368\tvalid_1's binary_logloss: 0.104933\tvalid_1's auc: 0.797907\n",
      "[13]\ttraining's binary_logloss: 0.0725308\ttraining's auc: 0.976939\tvalid_1's binary_logloss: 0.105002\tvalid_1's auc: 0.795726\n",
      "[14]\ttraining's binary_logloss: 0.0700158\ttraining's auc: 0.979954\tvalid_1's binary_logloss: 0.10506\tvalid_1's auc: 0.795652\n",
      "[15]\ttraining's binary_logloss: 0.0678079\ttraining's auc: 0.980862\tvalid_1's binary_logloss: 0.105182\tvalid_1's auc: 0.793603\n",
      "[16]\ttraining's binary_logloss: 0.0656176\ttraining's auc: 0.982669\tvalid_1's binary_logloss: 0.105002\tvalid_1's auc: 0.793826\n",
      "[17]\ttraining's binary_logloss: 0.0637764\ttraining's auc: 0.984527\tvalid_1's binary_logloss: 0.104651\tvalid_1's auc: 0.79531\n"
     ]
    },
    {
     "name": "stdout",
     "output_type": "stream",
     "text": [
      "[18]\ttraining's binary_logloss: 0.0618373\ttraining's auc: 0.98614\tvalid_1's binary_logloss: 0.104359\tvalid_1's auc: 0.798649\n",
      "[19]\ttraining's binary_logloss: 0.0598298\ttraining's auc: 0.989987\tvalid_1's binary_logloss: 0.103992\tvalid_1's auc: 0.810597\n",
      "[20]\ttraining's binary_logloss: 0.0582219\ttraining's auc: 0.991157\tvalid_1's binary_logloss: 0.10386\tvalid_1's auc: 0.811858\n",
      "[21]\ttraining's binary_logloss: 0.0564414\ttraining's auc: 0.992485\tvalid_1's binary_logloss: 0.103617\tvalid_1's auc: 0.811799\n",
      "[22]\ttraining's binary_logloss: 0.0548896\ttraining's auc: 0.993757\tvalid_1's binary_logloss: 0.103908\tvalid_1's auc: 0.808281\n",
      "[23]\ttraining's binary_logloss: 0.0532894\ttraining's auc: 0.994739\tvalid_1's binary_logloss: 0.103593\tvalid_1's auc: 0.811294\n",
      "[24]\ttraining's binary_logloss: 0.0517988\ttraining's auc: 0.995608\tvalid_1's binary_logloss: 0.104217\tvalid_1's auc: 0.808445\n",
      "[25]\ttraining's binary_logloss: 0.0504922\ttraining's auc: 0.99662\tvalid_1's binary_logloss: 0.104107\tvalid_1's auc: 0.809053\n",
      "[26]\ttraining's binary_logloss: 0.0491549\ttraining's auc: 0.997585\tvalid_1's binary_logloss: 0.104461\tvalid_1's auc: 0.806159\n",
      "[27]\ttraining's binary_logloss: 0.0478344\ttraining's auc: 0.998493\tvalid_1's binary_logloss: 0.103827\tvalid_1's auc: 0.810537\n",
      "[28]\ttraining's binary_logloss: 0.0465703\ttraining's auc: 0.998984\tvalid_1's binary_logloss: 0.103591\tvalid_1's auc: 0.81398\n",
      "[29]\ttraining's binary_logloss: 0.0453143\ttraining's auc: 0.999159\tvalid_1's binary_logloss: 0.10353\tvalid_1's auc: 0.812704\n",
      "[30]\ttraining's binary_logloss: 0.0441245\ttraining's auc: 0.999306\tvalid_1's binary_logloss: 0.103721\tvalid_1's auc: 0.811264\n",
      "[31]\ttraining's binary_logloss: 0.0429699\ttraining's auc: 0.999409\tvalid_1's binary_logloss: 0.104088\tvalid_1's auc: 0.806411\n",
      "[32]\ttraining's binary_logloss: 0.0418706\ttraining's auc: 0.999571\tvalid_1's binary_logloss: 0.10378\tvalid_1's auc: 0.805907\n",
      "[33]\ttraining's binary_logloss: 0.0406849\ttraining's auc: 0.999643\tvalid_1's binary_logloss: 0.104256\tvalid_1's auc: 0.803651\n",
      "[34]\ttraining's binary_logloss: 0.0396481\ttraining's auc: 0.999699\tvalid_1's binary_logloss: 0.104395\tvalid_1's auc: 0.804096\n",
      "[35]\ttraining's binary_logloss: 0.0385554\ttraining's auc: 0.999767\tvalid_1's binary_logloss: 0.104183\tvalid_1's auc: 0.807153\n",
      "[36]\ttraining's binary_logloss: 0.0375205\ttraining's auc: 0.999858\tvalid_1's binary_logloss: 0.104642\tvalid_1's auc: 0.806471\n",
      "[37]\ttraining's binary_logloss: 0.0366934\ttraining's auc: 0.999899\tvalid_1's binary_logloss: 0.104777\tvalid_1's auc: 0.807866\n",
      "[38]\ttraining's binary_logloss: 0.0357738\ttraining's auc: 0.999924\tvalid_1's binary_logloss: 0.105298\tvalid_1's auc: 0.805996\n",
      "Early stopping, best iteration is:\n",
      "[28]\ttraining's binary_logloss: 0.0465703\ttraining's auc: 0.998984\tvalid_1's binary_logloss: 0.103591\tvalid_1's auc: 0.81398\n",
      "[1]\ttraining's binary_logloss: 0.131041\ttraining's auc: 0.85157\tvalid_1's binary_logloss: 0.121306\tvalid_1's auc: 0.802511\n",
      "Training until validation scores don't improve for 10 rounds.\n",
      "[2]\ttraining's binary_logloss: 0.12079\ttraining's auc: 0.884637\tvalid_1's binary_logloss: 0.117223\tvalid_1's auc: 0.858343\n",
      "[3]\ttraining's binary_logloss: 0.112563\ttraining's auc: 0.900292\tvalid_1's binary_logloss: 0.113756\tvalid_1's auc: 0.861217\n",
      "[4]\ttraining's binary_logloss: 0.106459\ttraining's auc: 0.905118\tvalid_1's binary_logloss: 0.112037\tvalid_1's auc: 0.865262\n",
      "[5]\ttraining's binary_logloss: 0.101361\ttraining's auc: 0.912782\tvalid_1's binary_logloss: 0.109687\tvalid_1's auc: 0.868876\n",
      "[6]\ttraining's binary_logloss: 0.0965758\ttraining's auc: 0.920286\tvalid_1's binary_logloss: 0.108636\tvalid_1's auc: 0.866211\n",
      "[7]\ttraining's binary_logloss: 0.0923672\ttraining's auc: 0.925095\tvalid_1's binary_logloss: 0.108123\tvalid_1's auc: 0.863044\n",
      "[8]\ttraining's binary_logloss: 0.0886134\ttraining's auc: 0.943831\tvalid_1's binary_logloss: 0.106864\tvalid_1's auc: 0.883301\n",
      "[9]\ttraining's binary_logloss: 0.0846496\ttraining's auc: 0.951341\tvalid_1's binary_logloss: 0.105908\tvalid_1's auc: 0.882812\n",
      "[10]\ttraining's binary_logloss: 0.0816209\ttraining's auc: 0.957795\tvalid_1's binary_logloss: 0.104978\tvalid_1's auc: 0.880622\n",
      "[11]\ttraining's binary_logloss: 0.0788056\ttraining's auc: 0.960366\tvalid_1's binary_logloss: 0.104505\tvalid_1's auc: 0.878097\n",
      "[12]\ttraining's binary_logloss: 0.0761086\ttraining's auc: 0.964519\tvalid_1's binary_logloss: 0.103841\tvalid_1's auc: 0.879339\n",
      "[13]\ttraining's binary_logloss: 0.0736296\ttraining's auc: 0.96856\tvalid_1's binary_logloss: 0.103628\tvalid_1's auc: 0.878223\n",
      "[14]\ttraining's binary_logloss: 0.0711317\ttraining's auc: 0.971908\tvalid_1's binary_logloss: 0.103379\tvalid_1's auc: 0.876074\n",
      "[15]\ttraining's binary_logloss: 0.0688287\ttraining's auc: 0.977061\tvalid_1's binary_logloss: 0.102928\tvalid_1's auc: 0.874233\n",
      "[16]\ttraining's binary_logloss: 0.0666992\ttraining's auc: 0.982508\tvalid_1's binary_logloss: 0.102228\tvalid_1's auc: 0.874456\n",
      "[17]\ttraining's binary_logloss: 0.0645615\ttraining's auc: 0.984599\tvalid_1's binary_logloss: 0.101894\tvalid_1's auc: 0.872573\n",
      "[18]\ttraining's binary_logloss: 0.0627534\ttraining's auc: 0.985859\tvalid_1's binary_logloss: 0.101566\tvalid_1's auc: 0.873884\n",
      "Early stopping, best iteration is:\n",
      "[8]\ttraining's binary_logloss: 0.0886134\ttraining's auc: 0.943831\tvalid_1's binary_logloss: 0.106864\tvalid_1's auc: 0.883301\n"
     ]
    }
   ],
   "source": [
    "from lightgbm import LGBMClassifier\n",
    "from sklearn import model_selection\n",
    "from sklearn.metrics import roc_auc_score\n",
    "\n",
    "fi = []\n",
    "test_probs = []\n",
    "i = 0\n",
    "for train_idx, valid_idx in model_selection.KFold(n_splits=10, shuffle=True).split(X_train):\n",
    "    i += 1\n",
    "    Xt = X_train.iloc[train_idx]\n",
    "    yt = y_train.loc[X_train.index].iloc[train_idx]\n",
    "\n",
    "    Xv = X_train.iloc[valid_idx]\n",
    "    yv = y_train.loc[X_train.index].iloc[valid_idx]\n",
    "\n",
    "    learner = LGBMClassifier(n_estimators=10000)\n",
    "    learner.fit(Xt, yt,  early_stopping_rounds=10, eval_metric=\"auc\",\n",
    "                eval_set=[(Xt, yt), (Xv, yv)])\n",
    "    \n",
    "    test_probs.append(pd.Series(learner.predict_proba(X_test)[:, -1],\n",
    "                                index=X_test.index, name=\"fold_\" + str(i)))\n",
    "    fi.append(pd.Series(learner.feature_importances_ / learner.feature_importances_.sum(), index=Xt.columns))\n",
    "\n",
    "test_probs = pd.concat(test_probs, axis=1).mean(axis=1)\n",
    "test_probs.index.name=\"USER_ID\"\n",
    "test_probs.name=\"SCORE\"\n",
    "test_probs.to_csv(\"respuesta\", header=True, compression=\"zip\")\n",
    "fi = pd.concat(fi, axis=1).mean(axis=1)"
   ]
  },
  {
   "cell_type": "markdown",
   "metadata": {},
   "source": [
    "### Experimental models"
   ]
  },
  {
   "cell_type": "markdown",
   "metadata": {},
   "source": [
    "En este caso conv contiene los resultados para enviar al concurso, pero a continuacion subdividiremos X_train para poder usar el periodo de octubre a diciembre como testeo."
   ]
  },
  {
   "cell_type": "code",
   "execution_count": 3,
   "metadata": {},
   "outputs": [
    {
     "name": "stdout",
     "output_type": "stream",
     "text": [
      "haciendo CONTENT_CATEGORY\n",
      "haciendo CONTENT_CATEGORY_BOTTOM\n",
      "haciendo CONTENT_CATEGORY_TOP\n",
      "haciendo ON_SITE_SEARCH_TERM\n",
      "haciendo PAGE\n",
      "haciendo SITE_ID\n"
     ]
    }
   ],
   "source": [
    "data = data[data.FEC_EVENT.dt.month < 10]\n",
    "X_test2 = []\n",
    "for c in data.drop([\"USER_ID\", \"FEC_EVENT\"], axis=1).columns:\n",
    "    print(\"haciendo\", c)\n",
    "    temp = pd.crosstab(data.USER_ID, data[c])\n",
    "    temp.columns = [c + \"_\" + str(v) for v in temp.columns]\n",
    "    X_test2.append(temp.apply(lambda x: x / x.sum(), axis=1))\n",
    "X_test2 = pd.concat(X_test2, axis=1)"
   ]
  },
  {
   "cell_type": "code",
   "execution_count": 5,
   "metadata": {},
   "outputs": [
    {
     "name": "stdout",
     "output_type": "stream",
     "text": [
      "haciendo CONTENT_CATEGORY\n",
      "haciendo CONTENT_CATEGORY_BOTTOM\n",
      "haciendo CONTENT_CATEGORY_TOP\n",
      "haciendo ON_SITE_SEARCH_TERM\n",
      "haciendo PAGE\n",
      "haciendo SITE_ID\n"
     ]
    }
   ],
   "source": [
    "data = data[(data.FEC_EVENT.dt.month < 10) & (data.FEC_EVENT.dt.month > 6)]\n",
    "X_train2 = []\n",
    "for c in data.drop([\"USER_ID\", \"FEC_EVENT\"], axis=1).columns:\n",
    "    print(\"haciendo\", c)\n",
    "    temp = pd.crosstab(data.USER_ID, data[c])\n",
    "    temp.columns = [c + \"_\" + str(v) for v in temp.columns]\n",
    "    X_train2.append(temp.apply(lambda x: x / x.sum(), axis=1))\n",
    "X_train2 = pd.concat(X_train2, axis=1)"
   ]
  },
  {
   "cell_type": "code",
   "execution_count": 4,
   "metadata": {},
   "outputs": [],
   "source": [
    "y_prev2 = pd.read_csv(\"../data/conversiones.csv\")\n",
    "y_test2 = pd.Series(0, index=X_test2.index)\n",
    "idx = set(y_prev2[y_prev2.mes >= 10].USER_ID.unique()).intersection(set(X_test2.index))\n",
    "y_test2.loc[list(idx)] = 1"
   ]
  },
  {
   "cell_type": "code",
   "execution_count": 6,
   "metadata": {},
   "outputs": [],
   "source": [
    "y_train2 = pd.Series(0, index=X_train2.index)\n",
    "idx = set(y_prev2[(y_prev2.mes < 10) & (y_prev2.mes > 6)].USER_ID.unique()).intersection(set(X_train2.index))\n",
    "y_train2.loc[list(idx)] = 1"
   ]
  },
  {
   "cell_type": "code",
   "execution_count": 7,
   "metadata": {},
   "outputs": [
    {
     "name": "stdout",
     "output_type": "stream",
     "text": [
      "(11356, 1434) (11356,) (11529, 2026) (11529,)\n"
     ]
    }
   ],
   "source": [
    "print(X_train2.shape, y_train2.shape, X_test2.shape, y_test2.shape)"
   ]
  },
  {
   "cell_type": "code",
   "execution_count": 8,
   "metadata": {},
   "outputs": [],
   "source": [
    "features = list(set(X_train2.columns).intersection(set(X_test2.columns)))\n",
    "X_train2 = X_train2[features]\n",
    "X_test2 = X_test2[features]"
   ]
  },
  {
   "cell_type": "code",
   "execution_count": 10,
   "metadata": {},
   "outputs": [
    {
     "data": {
      "text/plain": [
       "(11356, 1434)"
      ]
     },
     "execution_count": 10,
     "metadata": {},
     "output_type": "execute_result"
    }
   ],
   "source": [
    "X_train2.shape"
   ]
  },
  {
   "cell_type": "code",
   "execution_count": 11,
   "metadata": {},
   "outputs": [],
   "source": [
    "from sklearn.tree import DecisionTreeClassifier\n",
    "\n",
    "dtc = DecisionTreeClassifier()\n",
    "dtc.fit(X_train2, y_train2)\n",
    "parciales = dtc.predict(X_test2)"
   ]
  },
  {
   "cell_type": "code",
   "execution_count": 12,
   "metadata": {},
   "outputs": [],
   "source": [
    "from sklearn.metrics import roc_auc_score\n",
    "\n",
    "scores = roc_auc_score(y_test2,parciales)"
   ]
  },
  {
   "cell_type": "code",
   "execution_count": 13,
   "metadata": {},
   "outputs": [
    {
     "data": {
      "text/plain": [
       "0.6589190854421179"
      ]
     },
     "execution_count": 13,
     "metadata": {},
     "output_type": "execute_result"
    }
   ],
   "source": [
    "scores"
   ]
  },
  {
   "cell_type": "code",
   "execution_count": 14,
   "metadata": {},
   "outputs": [],
   "source": [
    "from sklearn.feature_selection import SelectKBest\n",
    "from sklearn.feature_selection import chi2\n",
    "\n",
    "test = SelectKBest(chi2,k=200)\n",
    "fit = test.fit(X_train2, y_train2)\n",
    "X_train2 = pd.DataFrame(fit.transform(X_train2))\n",
    "X_test2 = pd.DataFrame(fit.transform(X_test2))"
   ]
  },
  {
   "cell_type": "code",
   "execution_count": 18,
   "metadata": {},
   "outputs": [
    {
     "name": "stdout",
     "output_type": "stream",
     "text": [
      "(11356, 200) (11529, 200)\n"
     ]
    }
   ],
   "source": [
    "print(X_train2.shape, X_test2.shape)"
   ]
  },
  {
   "cell_type": "code",
   "execution_count": 61,
   "metadata": {},
   "outputs": [
    {
     "data": {
      "text/plain": [
       "0.6635218739759915"
      ]
     },
     "execution_count": 61,
     "metadata": {},
     "output_type": "execute_result"
    }
   ],
   "source": [
    "from sklearn.tree import DecisionTreeClassifier\n",
    "\n",
    "dtc2 = DecisionTreeClassifier()\n",
    "dtc2.fit(X_train2, y_train2)\n",
    "parciales = dtc2.predict(X_test2)\n",
    "scores = roc_auc_score(y_test2,parciales)\n",
    "\n",
    "scores"
   ]
  },
  {
   "cell_type": "code",
   "execution_count": 66,
   "metadata": {},
   "outputs": [
    {
     "data": {
      "text/plain": [
       "(11529, 2)"
      ]
     },
     "execution_count": 66,
     "metadata": {},
     "output_type": "execute_result"
    }
   ],
   "source": [
    "prob.shape"
   ]
  },
  {
   "cell_type": "code",
   "execution_count": null,
   "metadata": {},
   "outputs": [],
   "source": []
  }
 ],
 "metadata": {
  "kernelspec": {
   "display_name": "ds",
   "language": "python",
   "name": "myenv"
  },
  "language_info": {
   "codemirror_mode": {
    "name": "ipython",
    "version": 3
   },
   "file_extension": ".py",
   "mimetype": "text/x-python",
   "name": "python",
   "nbconvert_exporter": "python",
   "pygments_lexer": "ipython3",
   "version": "3.7.3"
  }
 },
 "nbformat": 4,
 "nbformat_minor": 1
}
